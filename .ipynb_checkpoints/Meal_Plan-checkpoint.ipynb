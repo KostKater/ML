{
 "cells": [
  {
   "cell_type": "code",
   "execution_count": 4,
   "id": "db59e8fe",
   "metadata": {},
   "outputs": [
    {
     "name": "stdout",
     "output_type": "stream",
     "text": [
      "Proses selesai. Hasil tersimpan dalam file output.csv.\n"
     ]
    }
   ],
   "source": [
    "import csv\n",
    "import re\n",
    "def extract_bahan_dasar(bahan_makanan):\n",
    "    cleaned_string = re.sub(r'--', '', bahan_makanan)\n",
    "    ingredients = re.findall(r'[^\\d\\s]+', cleaned_string)\n",
    "    bahan_dasar = ', '.join(ingredients)\n",
    "    return bahan_dasar\n",
    "with open('MealPlan.csv', 'r', encoding='utf-8') as input_file, open('MealPlanNew.csv', 'w', newline='', encoding='utf-8') as output_file:\n",
    "    reader = csv.DictReader(input_file)\n",
    "    fieldnames = reader.fieldnames + ['Bahan Dasar']\n",
    "    writer = csv.DictWriter(output_file, fieldnames=fieldnames)\n",
    "    writer.writeheader()\n",
    "    for row in reader:\n",
    "        bahan_makanan = row['Bahan Makanan']\n",
    "        bahan_dasar = extract_bahan_dasar(bahan_makanan)\n",
    "        row['Bahan Dasar'] = bahan_dasar\n",
    "        writer.writerow(row)\n",
    "\n",
    "print(\"Proses selesai. Hasil tersimpan dalam file output.csv.\")\n"
   ]
  }
 ],
 "metadata": {
  "kernelspec": {
   "display_name": "Python 3 (ipykernel)",
   "language": "python",
   "name": "python3"
  },
  "language_info": {
   "codemirror_mode": {
    "name": "ipython",
    "version": 3
   },
   "file_extension": ".py",
   "mimetype": "text/x-python",
   "name": "python",
   "nbconvert_exporter": "python",
   "pygments_lexer": "ipython3",
   "version": "3.9.12"
  }
 },
 "nbformat": 4,
 "nbformat_minor": 5
}
