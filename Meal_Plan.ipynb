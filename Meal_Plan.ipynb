{
 "cells": [
  {
   "cell_type": "code",
   "execution_count": 5,
   "id": "988667c0",
   "metadata": {},
   "outputs": [
    {
     "name": "stdout",
     "output_type": "stream",
     "text": [
      "Proses selesai. Hasil tersimpan dalam file output.csv.\n"
     ]
    }
   ],
   "source": [
    "#ini tadi buat bahan dasar\n",
    "\"\"\"\n",
    "import csv\n",
    "import re\n",
    "def extract_bahan_dasar(bahan_makanan):\n",
    "    cleaned_string = re.sub(r'--', '', bahan_makanan)\n",
    "    ingredients = re.findall(r'[^\\d\\s]+', cleaned_string)\n",
    "    banned_words = ['butir', 'secukupnya', 'sdt', 'kg', 'gr', 'buah','siung','sdm','potong','fillet','potong','ruas','paha','dada','ekor',\n",
    "                   'bersihkan','lalu','ukuran','sedang','besar','tipis','iris','halus','dihancurkan']\n",
    "    bahan_dasar = ', '.join([ingredient for ingredient in ingredients if ingredient.lower() not in banned_words])\n",
    "    return bahan_dasar\n",
    "\n",
    "with open('MealPlan.csv', 'r', encoding='utf-8') as input_file, open('MealPlanNew.csv', 'w', newline='', encoding='utf-8') as output_file:\n",
    "    reader = csv.DictReader(input_file)\n",
    "    fieldnames = reader.fieldnames + ['Bahan Dasar']\n",
    "    writer = csv.DictWriter(output_file, fieldnames=fieldnames)\n",
    "    writer.writeheader()\n",
    "    for row in reader:\n",
    "        bahan_makanan = row['Bahan Makanan']\n",
    "        bahan_dasar = extract_bahan_dasar(bahan_makanan)\n",
    "        row['Bahan Dasar'] = bahan_dasar\n",
    "        writer.writerow(row)\n",
    "\n",
    "print(\"Proses selesai. Hasil tersimpan dalam file MealPlanNew.csv.\")\n",
    "\"\"\""
   ]
  },
  {
   "cell_type": "code",
   "execution_count": null,
   "id": "4e23a584",
   "metadata": {},
   "outputs": [],
   "source": [
    "import pandas as pd\n",
    "from sklearn.feature_extraction.text import TfidfVectorizer\n",
    "from sklearn.metrics.pairwise import cosine_similarity\n",
    "import tensorflow as tf"
   ]
  },
  {
   "cell_type": "code",
   "execution_count": 1,
   "id": "b71f34bf",
   "metadata": {},
   "outputs": [],
   "source": [
    "# Preprocessing data\n",
    "\n",
    "data = pd.read_csv('MealPlan.csv')\n",
    "data['Plan'] = data['Bahan Dasar'] + ' ' + data['Alergi Telur'].astype(str) + ' ' + data['Alergi Kacang'].astype(str) + ' ' + data['Alergi Kedelai'].astype(str) + ' ' + data['Alergi seafood'].astype(str) + ' ' + data['Alergi udang'].astype(str) + ' ' + data['Harga'].astype(str)\n"
   ]
  },
  {
   "cell_type": "code",
   "execution_count": null,
   "id": "0b89c864",
   "metadata": {},
   "outputs": [],
   "source": [
    "#Content Based Filtering\n"
   ]
  }
 ],
 "metadata": {
  "kernelspec": {
   "display_name": "Python 3 (ipykernel)",
   "language": "python",
   "name": "python3"
  },
  "language_info": {
   "codemirror_mode": {
    "name": "ipython",
    "version": 3
   },
   "file_extension": ".py",
   "mimetype": "text/x-python",
   "name": "python",
   "nbconvert_exporter": "python",
   "pygments_lexer": "ipython3",
   "version": "3.11.2"
  }
 },
 "nbformat": 4,
 "nbformat_minor": 5
}
