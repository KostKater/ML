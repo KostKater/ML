{
 "cells": [
  {
   "cell_type": "code",
   "execution_count": 1,
   "id": "988667c0",
   "metadata": {},
   "outputs": [
    {
     "data": {
      "text/plain": [
       "'\\nimport csv\\nimport re\\ndef extract_bahan_dasar(bahan_makanan):\\n    cleaned_string = re.sub(r\\'--\\', \\'\\', bahan_makanan)\\n    ingredients = re.findall(r\\'[^\\\\d\\\\s]+\\', cleaned_string)\\n    banned_words = [\\'butir\\', \\'secukupnya\\', \\'sdt\\', \\'kg\\', \\'gr\\', \\'buah\\',\\'siung\\',\\'sdm\\',\\'potong\\',\\'fillet\\',\\'potong\\',\\'ruas\\',\\'paha\\',\\'dada\\',\\'ekor\\',\\n                   \\'bersihkan\\',\\'lalu\\',\\'ukuran\\',\\'sedang\\',\\'besar\\',\\'tipis\\',\\'iris\\',\\'halus\\',\\'dihancurkan\\']\\n    bahan_dasar = \\', \\'.join([ingredient for ingredient in ingredients if ingredient.lower() not in banned_words])\\n    return bahan_dasar\\n\\nwith open(\\'MealPlan.csv\\', \\'r\\', encoding=\\'utf-8\\') as input_file, open(\\'MealPlanNew.csv\\', \\'w\\', newline=\\'\\', encoding=\\'utf-8\\') as output_file:\\n    reader = csv.DictReader(input_file)\\n    fieldnames = reader.fieldnames + [\\'Bahan Dasar\\']\\n    writer = csv.DictWriter(output_file, fieldnames=fieldnames)\\n    writer.writeheader()\\n    for row in reader:\\n        bahan_makanan = row[\\'Bahan Makanan\\']\\n        bahan_dasar = extract_bahan_dasar(bahan_makanan)\\n        row[\\'Bahan Dasar\\'] = bahan_dasar\\n        writer.writerow(row)\\n\\nprint(\"Proses selesai. Hasil tersimpan dalam file MealPlanNew.csv.\")\\n'"
      ]
     },
     "execution_count": 1,
     "metadata": {},
     "output_type": "execute_result"
    }
   ],
   "source": [
    "#ini tadi buat bahan dasar\n",
    "\"\"\"\n",
    "import csv\n",
    "import re\n",
    "def extract_bahan_dasar(bahan_makanan):\n",
    "    cleaned_string = re.sub(r'--', '', bahan_makanan)\n",
    "    ingredients = re.findall(r'[^\\d\\s]+', cleaned_string)\n",
    "    banned_words = ['butir', 'secukupnya', 'sdt', 'kg', 'gr', 'buah','siung','sdm','potong','fillet','potong','ruas','paha','dada','ekor',\n",
    "                   'bersihkan','lalu','ukuran','sedang','besar','tipis','iris','halus','dihancurkan']\n",
    "    bahan_dasar = ', '.join([ingredient for ingredient in ingredients if ingredient.lower() not in banned_words])\n",
    "    return bahan_dasar\n",
    "\n",
    "with open('MealPlan.csv', 'r', encoding='utf-8') as input_file, open('MealPlanNew.csv', 'w', newline='', encoding='utf-8') as output_file:\n",
    "    reader = csv.DictReader(input_file)\n",
    "    fieldnames = reader.fieldnames + ['Bahan Dasar']\n",
    "    writer = csv.DictWriter(output_file, fieldnames=fieldnames)\n",
    "    writer.writeheader()\n",
    "    for row in reader:\n",
    "        bahan_makanan = row['Bahan Makanan']\n",
    "        bahan_dasar = extract_bahan_dasar(bahan_makanan)\n",
    "        row['Bahan Dasar'] = bahan_dasar\n",
    "        writer.writerow(row)\n",
    "\n",
    "print(\"Proses selesai. Hasil tersimpan dalam file MealPlanNew.csv.\")\n",
    "\"\"\""
   ]
  },
  {
   "cell_type": "code",
   "execution_count": 1,
   "id": "4e23a584",
   "metadata": {},
   "outputs": [],
   "source": [
    "import pandas as pd\n",
    "import nltk\n",
    "from nltk.tokenize import word_tokenize\n",
    "from nltk.corpus import stopwords\n",
    "from nltk.stem import PorterStemmer\n",
    "from sklearn.feature_extraction.text import TfidfVectorizer\n",
    "from sklearn.metrics.pairwise import cosine_similarity\n",
    "import tensorflow as tf"
   ]
  },
  {
   "cell_type": "code",
   "execution_count": 3,
   "id": "b71f34bf",
   "metadata": {},
   "outputs": [
    {
     "ename": "AttributeError",
     "evalue": "'builtin_function_or_method' object has no attribute 'preprocess_meal'",
     "output_type": "error",
     "traceback": [
      "\u001b[1;31m---------------------------------------------------------------------------\u001b[0m",
      "\u001b[1;31mAttributeError\u001b[0m                            Traceback (most recent call last)",
      "Cell \u001b[1;32mIn[3], line 10\u001b[0m\n\u001b[0;32m      8\u001b[0m     stemmed_tokens \u001b[39m=\u001b[39m [stemmer\u001b[39m.\u001b[39mstem(token) \u001b[39mfor\u001b[39;00m token \u001b[39min\u001b[39;00m filtered_tokens]\n\u001b[0;32m      9\u001b[0m     \u001b[39mreturn\u001b[39;00m stemmed_tokens\n\u001b[1;32m---> 10\u001b[0m \u001b[39mprint\u001b[39;49m\u001b[39m.\u001b[39;49mpreprocess_meal(data)\n",
      "\u001b[1;31mAttributeError\u001b[0m: 'builtin_function_or_method' object has no attribute 'preprocess_meal'"
     ]
    }
   ],
   "source": [
    "# Preprocessing data\n",
    "data = pd.read_csv('MealPlan.csv')\n",
    "def preprocess_meal(data):\n",
    "    tokenisasi = word_tokenize(data[\"Bahan Dasar\"])\n",
    "    stop_words = set(stopwords.words('indonesian'))\n",
    "    filtered_tokens = [token for token in tokenisasi if token.lower() not in stop_words]\n",
    "    stemmer = PorterStemmer()\n",
    "    stemmed_tokens = [stemmer.stem(token) for token in filtered_tokens]\n",
    "    return stemmed_tokens"
   ]
  },
  {
   "cell_type": "code",
   "execution_count": null,
   "id": "0b89c864",
   "metadata": {},
   "outputs": [],
   "source": [
    "#Content Based Filtering\n"
   ]
  }
 ],
 "metadata": {
  "kernelspec": {
   "display_name": "Python 3 (ipykernel)",
   "language": "python",
   "name": "python3"
  },
  "language_info": {
   "codemirror_mode": {
    "name": "ipython",
    "version": 3
   },
   "file_extension": ".py",
   "mimetype": "text/x-python",
   "name": "python",
   "nbconvert_exporter": "python",
   "pygments_lexer": "ipython3",
   "version": "3.11.2"
  }
 },
 "nbformat": 4,
 "nbformat_minor": 5
}
