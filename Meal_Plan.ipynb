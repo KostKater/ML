{
 "cells": [
  {
   "cell_type": "code",
   "execution_count": 5,
   "id": "988667c0",
   "metadata": {},
   "outputs": [
    {
     "name": "stdout",
     "output_type": "stream",
     "text": [
      "Proses selesai. Hasil tersimpan dalam file output.csv.\n"
     ]
    }
   ],
   "source": [
    "#ini tadi buat bahan dasar\n",
    "\"\"\"\n",
    "import csv\n",
    "import re\n",
    "def extract_bahan_dasar(bahan_makanan):\n",
    "    cleaned_string = re.sub(r'--', '', bahan_makanan)\n",
    "    ingredients = re.findall(r'[^\\d\\s]+', cleaned_string)\n",
    "    banned_words = ['butir', 'secukupnya', 'sdt', 'kg', 'gr', 'buah','siung','sdm','potong','fillet','potong','ruas','paha','dada','ekor',\n",
    "                   'bersihkan','lalu','ukuran','sedang','besar','tipis','iris','halus','dihancurkan']\n",
    "    bahan_dasar = ', '.join([ingredient for ingredient in ingredients if ingredient.lower() not in banned_words])\n",
    "    return bahan_dasar\n",
    "\n",
    "with open('MealPlan.csv', 'r', encoding='utf-8') as input_file, open('MealPlanNew.csv', 'w', newline='', encoding='utf-8') as output_file:\n",
    "    reader = csv.DictReader(input_file)\n",
    "    fieldnames = reader.fieldnames + ['Bahan Dasar']\n",
    "    writer = csv.DictWriter(output_file, fieldnames=fieldnames)\n",
    "    writer.writeheader()\n",
    "    for row in reader:\n",
    "        bahan_makanan = row['Bahan Makanan']\n",
    "        bahan_dasar = extract_bahan_dasar(bahan_makanan)\n",
    "        row['Bahan Dasar'] = bahan_dasar\n",
    "        writer.writerow(row)\n",
    "\n",
    "print(\"Proses selesai. Hasil tersimpan dalam file output.csv.\")\n",
    "\"\"\""
   ]
  },
  {
   "cell_type": "code",
   "execution_count": 5,
   "id": "b71f34bf",
   "metadata": {},
   "outputs": [
    {
     "ename": "KeyError",
     "evalue": "'Alergi Kacang'",
     "output_type": "error",
     "traceback": [
      "\u001b[1;31m---------------------------------------------------------------------------\u001b[0m",
      "\u001b[1;31mKeyError\u001b[0m                                  Traceback (most recent call last)",
      "File \u001b[1;32mc:\\Users\\dhifa\\AppData\\Local\\Programs\\Python\\Python311\\Lib\\site-packages\\pandas\\core\\indexes\\base.py:3652\u001b[0m, in \u001b[0;36mIndex.get_loc\u001b[1;34m(self, key)\u001b[0m\n\u001b[0;32m   3651\u001b[0m \u001b[39mtry\u001b[39;00m:\n\u001b[1;32m-> 3652\u001b[0m     \u001b[39mreturn\u001b[39;00m \u001b[39mself\u001b[39;49m\u001b[39m.\u001b[39;49m_engine\u001b[39m.\u001b[39;49mget_loc(casted_key)\n\u001b[0;32m   3653\u001b[0m \u001b[39mexcept\u001b[39;00m \u001b[39mKeyError\u001b[39;00m \u001b[39mas\u001b[39;00m err:\n",
      "File \u001b[1;32mc:\\Users\\dhifa\\AppData\\Local\\Programs\\Python\\Python311\\Lib\\site-packages\\pandas\\_libs\\index.pyx:147\u001b[0m, in \u001b[0;36mpandas._libs.index.IndexEngine.get_loc\u001b[1;34m()\u001b[0m\n",
      "File \u001b[1;32mc:\\Users\\dhifa\\AppData\\Local\\Programs\\Python\\Python311\\Lib\\site-packages\\pandas\\_libs\\index.pyx:176\u001b[0m, in \u001b[0;36mpandas._libs.index.IndexEngine.get_loc\u001b[1;34m()\u001b[0m\n",
      "File \u001b[1;32mpandas\\_libs\\hashtable_class_helper.pxi:7080\u001b[0m, in \u001b[0;36mpandas._libs.hashtable.PyObjectHashTable.get_item\u001b[1;34m()\u001b[0m\n",
      "File \u001b[1;32mpandas\\_libs\\hashtable_class_helper.pxi:7088\u001b[0m, in \u001b[0;36mpandas._libs.hashtable.PyObjectHashTable.get_item\u001b[1;34m()\u001b[0m\n",
      "\u001b[1;31mKeyError\u001b[0m: 'Alergi Kacang'",
      "\nThe above exception was the direct cause of the following exception:\n",
      "\u001b[1;31mKeyError\u001b[0m                                  Traceback (most recent call last)",
      "Cell \u001b[1;32mIn[5], line 19\u001b[0m\n\u001b[0;32m     17\u001b[0m data[\u001b[39m'\u001b[39m\u001b[39mAlergi Telur\u001b[39m\u001b[39m'\u001b[39m] \u001b[39m=\u001b[39m label_encoder\u001b[39m.\u001b[39mfit_transform(data[\u001b[39m'\u001b[39m\u001b[39mAlergi Telur\u001b[39m\u001b[39m'\u001b[39m])\n\u001b[0;32m     18\u001b[0m data[\u001b[39m'\u001b[39m\u001b[39mAlergi Susu\u001b[39m\u001b[39m'\u001b[39m] \u001b[39m=\u001b[39m label_encoder\u001b[39m.\u001b[39mfit_transform(data[\u001b[39m'\u001b[39m\u001b[39mAlergi Susu\u001b[39m\u001b[39m'\u001b[39m])\n\u001b[1;32m---> 19\u001b[0m data[\u001b[39m'\u001b[39m\u001b[39mAlergi Kacang\u001b[39m\u001b[39m'\u001b[39m] \u001b[39m=\u001b[39m label_encoder\u001b[39m.\u001b[39mfit_transform(data[\u001b[39m'\u001b[39;49m\u001b[39mAlergi Kacang\u001b[39;49m\u001b[39m'\u001b[39;49m])\n\u001b[0;32m     20\u001b[0m data[\u001b[39m'\u001b[39m\u001b[39mAlergi Kedelai\u001b[39m\u001b[39m'\u001b[39m] \u001b[39m=\u001b[39m label_encoder\u001b[39m.\u001b[39mfit_transform(data[\u001b[39m'\u001b[39m\u001b[39mAlergi Kedelai\u001b[39m\u001b[39m'\u001b[39m])\n\u001b[0;32m     21\u001b[0m data[\u001b[39m'\u001b[39m\u001b[39mAlergi seafood\u001b[39m\u001b[39m'\u001b[39m] \u001b[39m=\u001b[39m label_encoder\u001b[39m.\u001b[39mfit_transform(data[\u001b[39m'\u001b[39m\u001b[39mAlergi seafood\u001b[39m\u001b[39m'\u001b[39m])\n",
      "File \u001b[1;32mc:\\Users\\dhifa\\AppData\\Local\\Programs\\Python\\Python311\\Lib\\site-packages\\pandas\\core\\frame.py:3761\u001b[0m, in \u001b[0;36mDataFrame.__getitem__\u001b[1;34m(self, key)\u001b[0m\n\u001b[0;32m   3759\u001b[0m \u001b[39mif\u001b[39;00m \u001b[39mself\u001b[39m\u001b[39m.\u001b[39mcolumns\u001b[39m.\u001b[39mnlevels \u001b[39m>\u001b[39m \u001b[39m1\u001b[39m:\n\u001b[0;32m   3760\u001b[0m     \u001b[39mreturn\u001b[39;00m \u001b[39mself\u001b[39m\u001b[39m.\u001b[39m_getitem_multilevel(key)\n\u001b[1;32m-> 3761\u001b[0m indexer \u001b[39m=\u001b[39m \u001b[39mself\u001b[39;49m\u001b[39m.\u001b[39;49mcolumns\u001b[39m.\u001b[39;49mget_loc(key)\n\u001b[0;32m   3762\u001b[0m \u001b[39mif\u001b[39;00m is_integer(indexer):\n\u001b[0;32m   3763\u001b[0m     indexer \u001b[39m=\u001b[39m [indexer]\n",
      "File \u001b[1;32mc:\\Users\\dhifa\\AppData\\Local\\Programs\\Python\\Python311\\Lib\\site-packages\\pandas\\core\\indexes\\base.py:3654\u001b[0m, in \u001b[0;36mIndex.get_loc\u001b[1;34m(self, key)\u001b[0m\n\u001b[0;32m   3652\u001b[0m     \u001b[39mreturn\u001b[39;00m \u001b[39mself\u001b[39m\u001b[39m.\u001b[39m_engine\u001b[39m.\u001b[39mget_loc(casted_key)\n\u001b[0;32m   3653\u001b[0m \u001b[39mexcept\u001b[39;00m \u001b[39mKeyError\u001b[39;00m \u001b[39mas\u001b[39;00m err:\n\u001b[1;32m-> 3654\u001b[0m     \u001b[39mraise\u001b[39;00m \u001b[39mKeyError\u001b[39;00m(key) \u001b[39mfrom\u001b[39;00m \u001b[39merr\u001b[39;00m\n\u001b[0;32m   3655\u001b[0m \u001b[39mexcept\u001b[39;00m \u001b[39mTypeError\u001b[39;00m:\n\u001b[0;32m   3656\u001b[0m     \u001b[39m# If we have a listlike key, _check_indexing_error will raise\u001b[39;00m\n\u001b[0;32m   3657\u001b[0m     \u001b[39m#  InvalidIndexError. Otherwise we fall through and re-raise\u001b[39;00m\n\u001b[0;32m   3658\u001b[0m     \u001b[39m#  the TypeError.\u001b[39;00m\n\u001b[0;32m   3659\u001b[0m     \u001b[39mself\u001b[39m\u001b[39m.\u001b[39m_check_indexing_error(key)\n",
      "\u001b[1;31mKeyError\u001b[0m: 'Alergi Kacang'"
     ]
    }
   ],
   "source": [
    "import pandas as pd\n",
    "from sklearn.preprocessing import LabelEncoder\n",
    "\n",
    "# Load dataset\n",
    "data = pd.read_csv('MealPlan.csv')\n",
    "\n",
    "# Preprocessing data\n",
    "# kolom yang tidak diperlukan\n",
    "data = data.drop(['Nama Makanan','Bahan Makanan','Resep','Kalori','Protein','Lemak','Karbohidrat'], axis=1)\n",
    "\n",
    "# Mengisi missing values jika ada\n",
    "data = data.fillna(0)\n",
    "\n",
    "# Encoding kolom kategorikal\n",
    "label_encoder = LabelEncoder()\n",
    "data['Kehalalan'] = label_encoder.fit_transform(data['Kehalalan'])\n",
    "data['Alergi Telur'] = label_encoder.fit_transform(data['Alergi Telur'])\n",
    "data['Alergi Susu'] = label_encoder.fit_transform(data['Alergi Susu'])\n",
    "data['Alergi Kacang'] = label_encoder.fit_transform(data['Alergi Kacang'])\n",
    "data['Alergi Kedelai'] = label_encoder.fit_transform(data['Alergi Kedelai'])\n",
    "data['Alergi seafood'] = label_encoder.fit_transform(data['Alergi seafood'])\n",
    "data['Alergi udang'] = label_encoder.fit_transform(data['Alergi udang'])"
   ]
  }
 ],
 "metadata": {
  "kernelspec": {
   "display_name": "Python 3 (ipykernel)",
   "language": "python",
   "name": "python3"
  },
  "language_info": {
   "codemirror_mode": {
    "name": "ipython",
    "version": 3
   },
   "file_extension": ".py",
   "mimetype": "text/x-python",
   "name": "python",
   "nbconvert_exporter": "python",
   "pygments_lexer": "ipython3",
   "version": "3.11.2"
  }
 },
 "nbformat": 4,
 "nbformat_minor": 5
}
